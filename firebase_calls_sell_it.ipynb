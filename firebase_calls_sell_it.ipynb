{
  "nbformat": 4,
  "nbformat_minor": 0,
  "metadata": {
    "colab": {
      "name": "firebase_calls_sell_it.ipynb",
      "provenance": [],
      "collapsed_sections": [],
      "authorship_tag": "ABX9TyO5esonm3wKoLn2QXZyeDTd",
      "include_colab_link": true
    },
    "kernelspec": {
      "name": "python3",
      "display_name": "Python 3"
    }
  },
  "cells": [
    {
      "cell_type": "markdown",
      "metadata": {
        "id": "view-in-github",
        "colab_type": "text"
      },
      "source": [
        "<a href=\"https://colab.research.google.com/github/harshaljaiswal4555/Banana_Navigation_Unity_ML-Agents/blob/master/firebase_calls_sell_it.ipynb\" target=\"_parent\"><img src=\"https://colab.research.google.com/assets/colab-badge.svg\" alt=\"Open In Colab\"/></a>"
      ]
    },
    {
      "cell_type": "code",
      "metadata": {
        "id": "Cji6oMu6OTtw",
        "colab_type": "code",
        "colab": {}
      },
      "source": [
        "pip install --upgrade firebase-admin"
      ],
      "execution_count": null,
      "outputs": []
    },
    {
      "cell_type": "code",
      "metadata": {
        "id": "eBA6ILNeOV7b",
        "colab_type": "code",
        "colab": {}
      },
      "source": [
        "import firebase_admin\n",
        "from firebase_admin import credentials\n",
        "from firebase_admin import firestore\n",
        "\n",
        "# Use the application default credentials\n",
        "cred = credentials.Certificate('/content/sell-it-dd832-firebase-adminsdk-g1n2r-e4d21c01ff.json')\n",
        "try:\n",
        "    app = firebase_admin.get_app()\n",
        "except ValueError as e:\n",
        "    cred = credentials.Certificate('/content/sell-it-dd832-firebase-adminsdk-g1n2r-e4d21c01ff.json')\n",
        "    firebase_admin.initialize_app(cred)\n",
        "# credentials = service_account.Credentials.from_service_account_file(\"your-json- file-path-with-filename.json\")\n",
        "# client = language.LanguageServiceClient(credentials=cred)\n",
        "import os\n",
        "os.environ[\"GOOGLE_APPLICATION_CREDENTIALS\"] = \"/sell-it-dd832-firebase-adminsdk-g1n2r-fb99d39fb9.json\"\n",
        "\n",
        "db = firestore.client()\n"
      ],
      "execution_count": null,
      "outputs": []
    },
    {
      "cell_type": "code",
      "metadata": {
        "id": "eazljuDpO0bu",
        "colab_type": "code",
        "colab": {}
      },
      "source": [
        "users_ref = db.collection(u'Users')\n",
        "docs = users_ref.stream()\n",
        "phone = []\n",
        "emails = []\n",
        "for doc in docs:\n",
        "  try:\n",
        "    print(doc.to_dict()['email'])\n",
        "    phone.append(int(doc.to_dict()['phone']))\n",
        "    emails.append(doc.to_dict()['email'])\n",
        "  except:\n",
        "    pass\n",
        "    # print(docs[doc.id])"
      ],
      "execution_count": null,
      "outputs": []
    },
    {
      "cell_type": "code",
      "metadata": {
        "id": "dBkVXjaYqCFp",
        "colab_type": "code",
        "colab": {}
      },
      "source": [
        "emails"
      ],
      "execution_count": null,
      "outputs": []
    },
    {
      "cell_type": "code",
      "metadata": {
        "id": "3JSFJwVe06r_",
        "colab_type": "code",
        "colab": {}
      },
      "source": [
        "dec =[]\n",
        "dec_mitti = []\n"
      ],
      "execution_count": null,
      "outputs": []
    },
    {
      "cell_type": "code",
      "metadata": {
        "id": "bfQlYfix012w",
        "colab_type": "code",
        "colab": {
          "base_uri": "https://localhost:8080/",
          "height": 35
        },
        "outputId": "4e98f651-0152-42e2-b6fb-599b53d324db"
      },
      "source": [
        "users_ref = db.collection(u'idol3')\n",
        "docs = users_ref.stream()\n",
        "\n",
        "\n",
        "for doc in docs:\n",
        "  if doc.id == 'idol8' : #or doc.id == 'idol2' or doc.id == 'idol3' or doc.id == 'idol4' or doc.id == 'idol5':\n",
        "    # print(doc.id, doc.get('data'))\n",
        "    for i in doc.get('data'):\n",
        "      if i['discount_price'] <=3000 and 'Elegant' in i['info'] :\n",
        "        print(i['title'], i['discount_price'], i['info'])\n",
        "        dec.append(i)"
      ],
      "execution_count": null,
      "outputs": [
        {
          "output_type": "stream",
          "text": [
            "Balganesh-502 1801 Elegant Design\n"
          ],
          "name": "stdout"
        }
      ]
    },
    {
      "cell_type": "code",
      "metadata": {
        "id": "e2Dc1yev1GGW",
        "colab_type": "code",
        "colab": {
          "base_uri": "https://localhost:8080/",
          "height": 35
        },
        "outputId": "75214c7d-82eb-4f0e-b4ae-6053009af6ca"
      },
      "source": [
        "len(dec)\n",
        "non_mitti = []\n",
        "dec_mitti = []\n",
        "for i in dec:\n",
        "  # if i['discount_price']\n",
        "  if 'Pure Mitti' in i['info']:\n",
        "    dec_mitti.append(i)\n",
        "    print(i['model'], i['discount_price'], i['size'],i['size_height'], i['info'])\n",
        "  else :\n",
        "    non_mitti.append(i)"
      ],
      "execution_count": null,
      "outputs": [
        {
          "output_type": "stream",
          "text": [
            "177 1301 10×06 Inch 11 Inch Pure Mitti\n"
          ],
          "name": "stdout"
        }
      ]
    },
    {
      "cell_type": "code",
      "metadata": {
        "id": "0k4gn89_BzV2",
        "colab_type": "code",
        "colab": {
          "base_uri": "https://localhost:8080/",
          "height": 121
        },
        "outputId": "494cdc83-e921-4c92-8ce8-6d63e3a5ddd7"
      },
      "source": [
        "for i in non_mitti:\n",
        "  print(i['model'], i['discount_price'], i['size'],i['size_height'], i['info'])"
      ],
      "execution_count": null,
      "outputs": [
        {
          "output_type": "stream",
          "text": [
            "170 1201 10×06 Inch 12 Inch Elegant Design\n",
            "171 1301 08×06 Inch 13 Inch Elegant Design\n",
            "172 1301 09×07 Inch 13 Inch Elegant Design \n",
            "173 1101 09×06 Inch 11 Inch Elegant Design \n",
            "174 1401 12×10 Inch 15 Inch Elegant Design\n",
            "182 1301 8x7 Inch 13 Inch Elegant Design\n"
          ],
          "name": "stdout"
        }
      ]
    },
    {
      "cell_type": "code",
      "metadata": {
        "id": "pRLNac0dYZs6",
        "colab_type": "code",
        "colab": {
          "base_uri": "https://localhost:8080/",
          "height": 139
        },
        "outputId": "90c9c1c3-492c-4d52-c861-4a81a33155e1"
      },
      "source": [
        "# dec[0]\n",
        "###############################\n",
        "doc_ref = db.collection(u'idol3').document('idol2')\n",
        "doc_ref.update({\n",
        "        \n",
        "        u'data':firestore.ArrayUnion(dec)\n",
        "})"
      ],
      "execution_count": null,
      "outputs": [
        {
          "output_type": "execute_result",
          "data": {
            "text/plain": [
              "update_time {\n",
              "  seconds: 1597516090\n",
              "  nanos: 964205000\n",
              "}\n",
              "transform_results {\n",
              "  null_value: NULL_VALUE\n",
              "}"
            ]
          },
          "metadata": {
            "tags": []
          },
          "execution_count": 43
        }
      ]
    },
    {
      "cell_type": "code",
      "metadata": {
        "id": "UiBw0uqjBxcz",
        "colab_type": "code",
        "colab": {}
      },
      "source": [
        ""
      ],
      "execution_count": null,
      "outputs": []
    },
    {
      "cell_type": "code",
      "metadata": {
        "id": "VojSv-pUnM2m",
        "colab_type": "code",
        "colab": {}
      },
      "source": [
        "# import random\n",
        "# import string\n",
        "\n",
        "# model =''.join(random.choices(string.ascii_uppercase + string.digits, k=4))\n",
        "# title = 'Ashtavinayak-'+model\n",
        "# doc_ref = db.collection(u'items').document(title)\n",
        "# doc_ref.set({\n",
        "#     u'image_url': u'https://static.toiimg.com/photo/msid-70957382/70957382.jpg',\n",
        "#     u'title': title,\n",
        "#     u'model': model,\n",
        "#     u'info': u'Eligent details, Excellent finishing, 12.5\" ',\n",
        "#     u'size': u'12.5\" ',\n",
        "#     u'size_height': u'12.5\" ',\n",
        "#     u'price': 1001,\n",
        "#     u'discount_present': True,\n",
        "#     u'discount_price': 901,\n",
        "#     u'quantity': 4,\n",
        "#     u'best_selling': False,\n",
        "#     u'seller_id': model,\n",
        "#     u'seller_place': u'Laxmi nagar',\n",
        "# })"
      ],
      "execution_count": null,
      "outputs": []
    },
    {
      "cell_type": "code",
      "metadata": {
        "id": "QP_-ObdGom6j",
        "colab_type": "code",
        "colab": {
          "base_uri": "https://localhost:8080/",
          "height": 121
        },
        "outputId": "45e5b452-66af-4f4d-e1d3-02043cdecb8f"
      },
      "source": [
        "# users_ref = db.collection(u'idol2')\n",
        "# docs = users_ref.stream()\n",
        "\n",
        "# data = []\n",
        "# i =0\n",
        "# for doc in docs:\n",
        "#     for dd in doc.id:\n",
        "#       print(i, dd,)\n",
        "#       i += 1\n",
        "#     # data[doc.id] = doc.get('data')\n",
        "#     print(doc)\n",
        "\n",
        "# print(data)"
      ],
      "execution_count": null,
      "outputs": [
        {
          "output_type": "stream",
          "text": [
            "0 i\n",
            "1 d\n",
            "2 o\n",
            "3 l\n",
            "<google.cloud.firestore_v1.document.DocumentSnapshot object at 0x7f814f0f3208>\n",
            "[]\n"
          ],
          "name": "stdout"
        }
      ]
    },
    {
      "cell_type": "code",
      "metadata": {
        "id": "2wmcmzY-sAqS",
        "colab_type": "code",
        "colab": {}
      },
      "source": [
        "# import random\n",
        "# import string\n",
        "\n",
        "\n",
        "# for i in range(1):\n",
        "#     model =''.join(random.choices(string.ascii_uppercase + string.digits, k=4))\n",
        "#     title = 'Ashtavinayak-'+model\n",
        "#     doc_ref = db.collection(u'idol3').document('idol')\n",
        "#     doc_ref.update({\n",
        "        \n",
        "#         u'data':firestore.ArrayUnion([{\n",
        "            \n",
        "            \n",
        "#                 u'image_url': u'https://siddhivinayakarts.github.io/images/ganesha/small/3.jpg',\n",
        "#                 u'title': title,\n",
        "#                 u'model': model,\n",
        "#                 u'info': u'Eligent details, Excellent finishing, 12.5\" ',\n",
        "#                 u'size': u'12.5\" ',\n",
        "#                 u'size_height': u'12.5\" ',\n",
        "#                 u'price': 5001,\n",
        "#                 u'discount_present': False,\n",
        "#                 u'discount_price': 4001,\n",
        "#                 u'quantity': 4,\n",
        "#                 u'best_selling': False,\n",
        "#                 u'seller_id': model,\n",
        "#                 u'in_stock':True,\n",
        "#                 u'images_group':[u'https://siddhivinayakarts.github.io/images/ganesha/small/3.jpg',u'https://siddhivinayakarts.github.io/images/ganesha/small/18.jpg',u'https://images.jdmagicbox.com/comp/mumbai/v1/022pxx22.xx22.180502145041.q2v1/catalogue/morya-foundation-kalwa-thane-eco-friendly-ganpati-idol-dealers-vv3y6.jpg',u'https://static.toiimg.com/photo/msid-70957382/70957382.jpg'],\n",
        "#                 u'seller_place': u'Laxmi nagar',\n",
        "            \n",
        "#         }])\n",
        "        \n",
        "#     })"
      ],
      "execution_count": null,
      "outputs": []
    },
    {
      "cell_type": "code",
      "metadata": {
        "id": "WvAg9QJ4ntSt",
        "colab_type": "code",
        "colab": {}
      },
      "source": [
        "# import random\n",
        "# import string\n",
        "\n",
        "\n",
        "# for i in range(1):\n",
        "#     model =''.join(random.choices(string.ascii_uppercase + string.digits, k=4))\n",
        "#     title = 'Decor-'+model\n",
        "#     doc_ref = db.collection(u'idol3').document('decor')\n",
        "#     doc_ref.update({\n",
        "        \n",
        "#         u'data':firestore.ArrayUnion([{\n",
        "          \n",
        "#                 u'image_url': u'https://i.pinimg.com/originals/08/07/1a/08071a71646978e280aed62d1149d007.jpg',\n",
        "#                  #https://static.toiimg.com/photo/msid-70957382/70957382.jpg',\n",
        "#                 u'title': title,\n",
        "#                 u'model': model,\n",
        "#                 u'info': u'Eligent details, Excellent finishing, 12.5\" ',\n",
        "#                 u'size': u'12.5\" ',\n",
        "#                 u'size_height': u'12.5\" ',\n",
        "#                 u'price': 651,\n",
        "#                 u'discount_present': False,\n",
        "#                 u'discount_price': 651,\n",
        "#                 u'quantity': 4,\n",
        "#                 u'best_selling': False,\n",
        "#                 u'seller_id': model,\n",
        "#                 u'seller_place': u'Laxmi nagar',\n",
        "            \n",
        "#         }])\n",
        "        \n",
        "#     })"
      ],
      "execution_count": null,
      "outputs": []
    },
    {
      "cell_type": "code",
      "metadata": {
        "id": "C-VPQEMclt4W",
        "colab_type": "code",
        "colab": {}
      },
      "source": [
        "# ################ CATEGORY ###################3\n",
        "# import random\n",
        "# import string\n",
        "\n",
        "# doc_ref = db.collection(u'idol3').document('category')\n",
        "# for i in range(1):\n",
        "    \n",
        "#     # model =''.join(random.choices(string.ascii_uppercase + string.digits, k=4))\n",
        "#     doc_ref.update({\n",
        "#         u'data':firestore.ArrayUnion([{\n",
        "#                 u'image_url': u'https://icons.iconarchive.com/icons/psdblast/flat-christmas/512/toffee-icon.png',\n",
        "#                 u'model': u'Cart',\n",
        "#                 u'doc':u'Cart',\n",
        "#                 u'type':u'Cart'\n",
        "#         }])\n",
        "        \n",
        "#     })"
      ],
      "execution_count": null,
      "outputs": []
    },
    {
      "cell_type": "code",
      "metadata": {
        "id": "6_mIVSTCRoH9",
        "colab_type": "code",
        "colab": {}
      },
      "source": [
        "# import random\n",
        "# import string\n",
        "\n",
        "\n",
        "# for i in range(4):\n",
        "#     model =''.join(random.choices(string.ascii_uppercase + string.digits, k=4))\n",
        "#     title = 'Ashtavinayak-'+model\n",
        "#     doc_ref = db.collection(u'idol3').document('product_3')\n",
        "#     doc_ref.update({\n",
        "        \n",
        "#         u'data':firestore.ArrayUnion([{\n",
        "          \n",
        "#                 u'image_url': u'https://w.ndtvimg.com/sites/3/2019/09/16153334/maharashtra-latur-ganesh-chaturthi-istock-660x330.jpg',\n",
        "#                  #https://static.toiimg.com/photo/msid-70957382/70957382.jpg',\n",
        "#                 u'title': title,\n",
        "#                 u'model': model,\n",
        "            \n",
        "#         }])\n",
        "        \n",
        "#     })"
      ],
      "execution_count": null,
      "outputs": []
    },
    {
      "cell_type": "code",
      "metadata": {
        "id": "ywAadISSwpdS",
        "colab_type": "code",
        "colab": {}
      },
      "source": [
        ""
      ],
      "execution_count": null,
      "outputs": []
    }
  ]
}